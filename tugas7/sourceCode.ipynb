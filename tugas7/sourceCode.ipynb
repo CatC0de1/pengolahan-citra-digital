{
 "cells": [
  {
   "cell_type": "code",
   "execution_count": 1,
   "id": "672d68a7",
   "metadata": {},
   "outputs": [],
   "source": [
    "import cv2\n",
    "import numpy as np\n",
    "import matplotlib.pyplot as plt"
   ]
  },
  {
   "cell_type": "code",
   "execution_count": 2,
   "id": "fa9e64ac",
   "metadata": {},
   "outputs": [],
   "source": [
    "# Tampilkan hasil\n",
    "def show_image(title, image):\n",
    "  plt.imshow(image, cmap='gray')\n",
    "  plt.title(title)\n",
    "  plt.axis('off')\n",
    "  plt.show()\n",
    "\n",
    "  print(image)"
   ]
  },
  {
   "cell_type": "code",
   "execution_count": null,
   "id": "61bb0909",
   "metadata": {},
   "outputs": [],
   "source": [
    "# Fungsi untuk operasi morfologi\n",
    "def morfologi(title, input_mat):\n",
    "\n",
    "  # Structuring element 3x3\n",
    "  struct_elem = cv2.getStructuringElement(cv2.MORPH_RECT, (3, 3))\n",
    "\n",
    "  if title == 'Dilated':\n",
    "    result = cv2.dilate(input_mat, struct_elem)  \n",
    "  elif title == 'Eroded':\n",
    "    result = cv2.erode(input_mat, struct_elem)\n",
    "  elif title == 'Opening':\n",
    "    result = cv2.morphologyEx(input_mat, cv2.MORPH_OPEN, struct_elem)\n",
    "  elif title == 'Closing':\n",
    "    result = cv2.morphologyEx(input_mat, cv2.MORPH_CLOSE, struct_elem)\n",
    "  else:\n",
    "    raise ValueError(\"Invalid operation title\")\n",
    "\n",
    "  show_image(title, result)"
   ]
  },
  {
   "cell_type": "code",
   "execution_count": 4,
   "id": "dece19cf",
   "metadata": {},
   "outputs": [
    {
     "data": {
      "image/png": "[encoded data removed]",
      "text/plain": [
       "<Figure size 640x480 with 1 Axes>"
      ]
     },
     "metadata": {},
     "output_type": "display_data"
    },
    {
     "name": "stdout",
     "output_type": "stream",
     "text": [
      "[[  0   0   0   0   0   0   0   0   0   0]\n",
      " [  0   0   0   0   0   0   0   0   0   0]\n",
      " [  0   0 255 255   0   0 255   0   0   0]\n",
      " [  0   0   0 255 255 255 255 255   0   0]\n",
      " [  0   0 255 255 255 255 255   0   0   0]\n",
      " [  0   0 255 255 255 255   0   0   0   0]\n",
      " [  0   0 255 255 255 255 255   0   0   0]\n",
      " [  0   0   0 255 255 255 255   0   0   0]\n",
      " [  0   0   0   0   0   0   0   0   0   0]\n",
      " [  0   0   0   0   0   0   0   0   0   0]]\n"
     ]
    }
   ],
   "source": [
    "# Konversi citra biner ke Mat\n",
    "# ROWS, COLS = 10, 10\n",
    "matrix = [\n",
    "  [0, 0, 0, 0, 0, 0, 0, 0, 0, 0],\n",
    "  [0, 0, 0, 0, 0, 0, 0, 0, 0, 0],\n",
    "  [0, 0, 1, 1, 0, 0, 1, 0, 0, 0],\n",
    "  [0, 0, 0, 1, 1, 1, 1, 1, 0, 0],\n",
    "  [0, 0, 1, 1, 1, 1, 1, 0, 0, 0],\n",
    "  [0, 0, 1, 1, 1, 1, 0, 0, 0, 0],\n",
    "  [0, 0, 1, 1, 1, 1, 1, 0, 0, 0],\n",
    "  [0, 0, 0, 1, 1, 1, 1, 0, 0, 0],\n",
    "  [0, 0, 0, 0, 0, 0, 0, 0, 0, 0],\n",
    "  [0, 0, 0, 0, 0, 0, 0, 0, 0, 0]\n",
    "]\n",
    "\n",
    "# konversi ke 0 dan 255\n",
    "binary_image = np.array(matrix, dtype=np.uint8) * 255\n",
    "\n",
    "_ = show_image('Original Image', binary_image)"
   ]
  },
  {
   "cell_type": "code",
   "execution_count": 5,
   "id": "48580a68",
   "metadata": {},
   "outputs": [
    {
     "ename": "ValueError",
     "evalue": "Invalid operation title",
     "output_type": "error",
     "traceback": [
      "\u001b[31m---------------------------------------------------------------------------\u001b[39m",
      "\u001b[31mValueError\u001b[39m                                Traceback (most recent call last)",
      "\u001b[36mCell\u001b[39m\u001b[36m \u001b[39m\u001b[32mIn[5]\u001b[39m\u001b[32m, line 1\u001b[39m\n\u001b[32m----> \u001b[39m\u001b[32m1\u001b[39m _ = \u001b[43mmorfologi\u001b[49m\u001b[43m(\u001b[49m\u001b[33;43m\"\u001b[39;49m\u001b[33;43mDilated\u001b[39;49m\u001b[33;43m\"\u001b[39;49m\u001b[43m,\u001b[49m\u001b[43m \u001b[49m\u001b[43mbinary_image\u001b[49m\u001b[43m)\u001b[49m\n",
      "\u001b[36mCell\u001b[39m\u001b[36m \u001b[39m\u001b[32mIn[3]\u001b[39m\u001b[32m, line 16\u001b[39m, in \u001b[36mmorfologi\u001b[39m\u001b[34m(title, input_mat)\u001b[39m\n\u001b[32m     14\u001b[39m   result = cv2.morphologyEx(input_mat, cv2.MORPH_CLOSE, struct_elem)\n\u001b[32m     15\u001b[39m \u001b[38;5;28;01melse\u001b[39;00m:\n\u001b[32m---> \u001b[39m\u001b[32m16\u001b[39m   \u001b[38;5;28;01mraise\u001b[39;00m \u001b[38;5;167;01mValueError\u001b[39;00m(\u001b[33m\"\u001b[39m\u001b[33mInvalid operation title\u001b[39m\u001b[33m\"\u001b[39m)\n\u001b[32m     18\u001b[39m show_image(title, result)\n",
      "\u001b[31mValueError\u001b[39m: Invalid operation title"
     ]
    }
   ],
   "source": [
    "_ = morfologi(\"Dilated\", binary_image)"
   ]
  },
  {
   "cell_type": "code",
   "execution_count": null,
   "id": "94a08e1d",
   "metadata": {},
   "outputs": [],
   "source": [
    "_ = morfologi(\"Eroded\", binary_image)"
   ]
  },
  {
   "cell_type": "code",
   "execution_count": null,
   "id": "a6dd38fc",
   "metadata": {},
   "outputs": [],
   "source": [
    "_ = morfologi(\"Opened\", binary_image)"
   ]
  },
  {
   "cell_type": "code",
   "execution_count": null,
   "id": "a635bd3e",
   "metadata": {},
   "outputs": [],
   "source": [
    "_ = morfologi(\"Closed\", binary_image)"
   ]
  }
 ],
 "metadata": {
  "kernelspec": {
   "display_name": "Python 3",
   "language": "python",
   "name": "python3"
  },
  "language_info": {
   "codemirror_mode": {
    "name": "ipython",
    "version": 3
   },
   "file_extension": ".py",
   "mimetype": "text/x-python",
   "name": "python",
   "nbconvert_exporter": "python",
   "pygments_lexer": "ipython3",
   "version": "3.11.0"
  }
 },
 "nbformat": 4,
 "nbformat_minor": 5
}
